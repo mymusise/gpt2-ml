{
 "cells": [
  {
   "cell_type": "code",
   "execution_count": null,
   "metadata": {},
   "outputs": [],
   "source": [
    "import tensorflow as tf\n",
    "tf.compat.v1.enable_eager_execution()\n",
    "print(\"Num GPUs Available: \", len(tf.config.experimental.list_physical_devices('GPU')))"
   ]
  },
  {
   "cell_type": "markdown",
   "metadata": {},
   "source": [
    "# test datainput"
   ]
  },
  {
   "cell_type": "code",
   "execution_count": null,
   "metadata": {},
   "outputs": [],
   "source": [
    "\n",
    "def _decode_record(record, name_to_features):\n",
    "    \"\"\"Decodes a record to a TensorFlow example.\"\"\"\n",
    "    example = tf.parse_single_example(record, name_to_features)\n",
    "\n",
    "    # tf.Example only supports tf.int64, but the TPU only supports tf.int32.\n",
    "    # So cast all int64 to int32.\n",
    "    for name in list(example.keys()):\n",
    "        t = example[name]\n",
    "        if t.dtype == tf.int64:\n",
    "            t = tf.cast(t, tf.int32)\n",
    "        example[name] = t\n",
    "    return example"
   ]
  },
  {
   "cell_type": "code",
   "execution_count": null,
   "metadata": {},
   "outputs": [],
   "source": [
    "batch_size = 1\n",
    "seq_length = 1025\n",
    "is_training = True\n",
    "num_cpu_threads = 4\n",
    "evaluate_for_fixed_number_of_steps=True\n",
    "input_files = ['./dataset/train_data/train.tfrecord']\n",
    "# input_files = ['./temp.tfrecord']\n",
    "\n",
    "name_to_features = {\n",
    "    \"input_ids\": tf.FixedLenFeature([seq_length+1], tf.int64),\n",
    "}\n",
    "d = tf.data.Dataset.from_tensor_slices(tf.constant(input_files))\n",
    "d = d.repeat()\n",
    "d = d.shuffle(buffer_size=len(input_files))\n",
    "\n",
    "# `cycle_length` is the number of parallel files that get read.\n",
    "cycle_length = min(num_cpu_threads, len(input_files))\n",
    "\n",
    "# `sloppy` mode means that the interleaving is not exact. This adds\n",
    "# even more randomness to the training pipeline.\n",
    "d = d.apply(\n",
    "    tf.data.experimental.parallel_interleave(\n",
    "        tf.data.TFRecordDataset,\n",
    "        sloppy=is_training,\n",
    "        cycle_length=cycle_length))\n",
    "d = d.shuffle(buffer_size=100)\n",
    "\n",
    "for _d in d.take(1):\n",
    "    print(_d)\n",
    "d = d.apply(\n",
    "tf.data.experimental.map_and_batch(\n",
    "    lambda record: _decode_record(record, name_to_features),\n",
    "    batch_size=batch_size,\n",
    "    num_parallel_batches=num_cpu_threads,\n",
    "    drop_remainder=True))\n",
    "for _d in d.take(1):\n",
    "    print(_d)"
   ]
  },
  {
   "cell_type": "code",
   "execution_count": null,
   "metadata": {},
   "outputs": [],
   "source": []
  },
  {
   "cell_type": "code",
   "execution_count": null,
   "metadata": {},
   "outputs": [],
   "source": [
    "type(d)"
   ]
  },
  {
   "cell_type": "code",
   "execution_count": null,
   "metadata": {},
   "outputs": [],
   "source": [
    "with tf.Session() as sess:\n",
    "    print(sess.run(d.make_one_shot_iterator().get_next()))\n",
    "    d = d.apply(\n",
    "    tf.data.experimental.map_and_batch(\n",
    "        lambda record: _decode_record(record, name_to_features),\n",
    "        batch_size=batch_size,\n",
    "        num_parallel_batches=num_cpu_threads,\n",
    "        drop_remainder=True))\n",
    "    print(d.make_one_shot_iterator().get_next()))"
   ]
  },
  {
   "cell_type": "code",
   "execution_count": null,
   "metadata": {},
   "outputs": [],
   "source": [
    "import collections\n",
    "\n",
    "def create_int_feature(values):\n",
    "    feature = tf.train.Feature(\n",
    "        int64_list=tf.train.Int64List(value=list(values)))\n",
    "    return feature\n",
    "\n",
    "ids = [\n",
    "    [101, 202, 10, 40], \n",
    "    [201, 202, 10, 40],\n",
    "    [301, 202, 10, 40]\n",
    "]\n",
    "\n",
    "for _id in ids:\n",
    "    features = collections.OrderedDict()\n",
    "    features[\"input_ids\"] = create_int_feature(_id)\n",
    "    print(features)\n",
    "\n",
    "    train_writer = tf.python_io.TFRecordWriter(\"temp.tfrecord\", options=None)\n",
    "    tf_example = tf.train.Example(\n",
    "                features=tf.train.Features(feature=features))\n",
    "    train_writer.write(tf_example.SerializeToString())\n",
    "train_writer.close()"
   ]
  },
  {
   "cell_type": "code",
   "execution_count": null,
   "metadata": {},
   "outputs": [],
   "source": [
    "reader = tf.data.TFRecordDataset('temp.tfrecord')\n",
    "print(reader)\n",
    "\n",
    "image_feature_description = {'input_ids': tf.io.FixedLenFeature([4], tf.int64)}\n",
    "\n",
    "def _parse_image_function(example_proto):\n",
    "  # Parse the input tf.Example proto using the dictionary above.\n",
    "  return tf.io.parse_single_example(example_proto, image_feature_description)\n",
    "\n",
    "datas = reader.map(_parse_image_function)\n",
    "print(datas)\n",
    "for d in reader.take(1):\n",
    "    print(repr(d))\n",
    "for d in datas.take(2):\n",
    "    print(repr(d))"
   ]
  }
 ],
 "metadata": {
  "kernelspec": {
   "display_name": "Python 3",
   "language": "python",
   "name": "python3"
  },
  "language_info": {
   "codemirror_mode": {
    "name": "ipython",
    "version": 3
   },
   "file_extension": ".py",
   "mimetype": "text/x-python",
   "name": "python",
   "nbconvert_exporter": "python",
   "pygments_lexer": "ipython3",
   "version": "3.5.2"
  }
 },
 "nbformat": 4,
 "nbformat_minor": 4
}
